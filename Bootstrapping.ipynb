{
 "cells": [
  {
   "cell_type": "markdown",
   "metadata": {},
   "source": [
    "# Prediction Uncertainty with Bootstrapping\n",
    "## Bootstrapping\n",
    "Use the bootstrapping technique to quantify the uncertainty of predictions for the KNN regressor\n",
    "* Create a boxplot where the x-axis is K, and the y-axis is the average error (and the uncertainty around it)\n",
    "* Test error and its uncertainty vs K\n",
    "* Create a boxplot where the x-axis is ‘times’, and the y-axis is the average error\n",
    "* Test error and its uncertainty behave vs number of subsets in bootstrapping"
   ]
  },
  {
   "cell_type": "markdown",
   "metadata": {},
   "source": [
    "### Importing Libraries"
   ]
  },
  {
   "cell_type": "code",
   "execution_count": 1,
   "metadata": {},
   "outputs": [
    {
     "name": "stderr",
     "output_type": "stream",
     "text": [
      "Warning message:\n",
      "\"package 'reshape2' was built under R version 3.5.3\"Warning message:\n",
      "\"package 'ggplot2' was built under R version 3.5.3\""
     ]
    }
   ],
   "source": [
    "library(reshape2)\n",
    "library(ggplot2)"
   ]
  },
  {
   "cell_type": "markdown",
   "metadata": {},
   "source": [
    "### Importing train and test datasets"
   ]
  },
  {
   "cell_type": "code",
   "execution_count": 2,
   "metadata": {},
   "outputs": [],
   "source": [
    "train <- read.csv(\"Task1B_train.csv\") # read the csv file in R dataframe \n",
    "test <- read.csv(\"Task1B_test.csv\") # read the csv file in R dataframe "
   ]
  },
  {
   "cell_type": "code",
   "execution_count": 3,
   "metadata": {},
   "outputs": [],
   "source": [
    "train.data <-train[,-5]\n",
    "test.data <- test[,-5]\n",
    "\n",
    "train.label <- train[,5]\n",
    "test.label <-test[,5]"
   ]
  },
  {
   "cell_type": "markdown",
   "metadata": {},
   "source": [
    "### Bootstrapping"
   ]
  },
  {
   "cell_type": "code",
   "execution_count": 4,
   "metadata": {},
   "outputs": [
    {
     "data": {
      "text/html": [
       "<table>\n",
       "<caption>A matrix: 5 × 10 of type int</caption>\n",
       "<tbody>\n",
       "\t<tr><td>  3</td><td>38</td><td>43</td><td> 7</td><td>57</td><td>45</td><td>42</td><td>37</td><td>48</td><td>36</td></tr>\n",
       "\t<tr><td> 43</td><td>93</td><td>60</td><td>10</td><td>39</td><td>16</td><td>23</td><td> 5</td><td>41</td><td>39</td></tr>\n",
       "\t<tr><td>  6</td><td>27</td><td>55</td><td>17</td><td>27</td><td>43</td><td>27</td><td> 1</td><td>34</td><td>80</td></tr>\n",
       "\t<tr><td> 77</td><td>51</td><td>80</td><td>39</td><td>75</td><td>75</td><td>19</td><td>60</td><td>54</td><td>83</td></tr>\n",
       "\t<tr><td>100</td><td>61</td><td>79</td><td>12</td><td>89</td><td>85</td><td>61</td><td> 7</td><td>94</td><td>75</td></tr>\n",
       "</tbody>\n",
       "</table>\n"
      ],
      "text/latex": [
       "A matrix: 5 × 10 of type int\n",
       "\\begin{tabular}{llllllllll}\n",
       "\t   3 & 38 & 43 &  7 & 57 & 45 & 42 & 37 & 48 & 36\\\\\n",
       "\t  43 & 93 & 60 & 10 & 39 & 16 & 23 &  5 & 41 & 39\\\\\n",
       "\t   6 & 27 & 55 & 17 & 27 & 43 & 27 &  1 & 34 & 80\\\\\n",
       "\t  77 & 51 & 80 & 39 & 75 & 75 & 19 & 60 & 54 & 83\\\\\n",
       "\t 100 & 61 & 79 & 12 & 89 & 85 & 61 &  7 & 94 & 75\\\\\n",
       "\\end{tabular}\n"
      ],
      "text/markdown": [
       "\n",
       "A matrix: 5 × 10 of type int\n",
       "\n",
       "|   3 | 38 | 43 |  7 | 57 | 45 | 42 | 37 | 48 | 36 |\n",
       "|  43 | 93 | 60 | 10 | 39 | 16 | 23 |  5 | 41 | 39 |\n",
       "|   6 | 27 | 55 | 17 | 27 | 43 | 27 |  1 | 34 | 80 |\n",
       "|  77 | 51 | 80 | 39 | 75 | 75 | 19 | 60 | 54 | 83 |\n",
       "| 100 | 61 | 79 | 12 | 89 | 85 | 61 |  7 | 94 | 75 |\n",
       "\n"
      ],
      "text/plain": [
       "     [,1] [,2] [,3] [,4] [,5] [,6] [,7] [,8] [,9] [,10]\n",
       "[1,]   3  38   43    7   57   45   42   37   48   36   \n",
       "[2,]  43  93   60   10   39   16   23    5   41   39   \n",
       "[3,]   6  27   55   17   27   43   27    1   34   80   \n",
       "[4,]  77  51   80   39   75   75   19   60   54   83   \n",
       "[5,] 100  61   79   12   89   85   61    7   94   75   "
      ]
     },
     "metadata": {},
     "output_type": "display_data"
    }
   ],
   "source": [
    "# a function that generates sample indexes based on bootstrap technique\n",
    "boot <- function (original.size=100, sample.size=original.size, times=100){\n",
    "    indx <- matrix(nrow=times, ncol=sample.size)\n",
    "    for (t in 1:times){\n",
    "        indx[t, ] <- sample(x=original.size, size=sample.size, replace = TRUE)\n",
    "    }\n",
    "    return(indx)\n",
    "}\n",
    "# lets try once to see if our function is working properly \n",
    "boot(100, 10, 5)"
   ]
  },
  {
   "cell_type": "markdown",
   "metadata": {},
   "source": [
    "### KNN Regressor function\n",
    "\n",
    "Function knn(train.data, test.data, K=3, distance = 'euclidean'), takes training data and their labels(continuous values), the test data and size of neighbourhood(K). And, should return the regressed values for the test data points."
   ]
  },
  {
   "cell_type": "code",
   "execution_count": 5,
   "metadata": {},
   "outputs": [],
   "source": [
    "# KNN function (distance should be one of euclidean, maximum, manhattan, canberra, binary or minkowski)\n",
    "knn <- function(train.data, train.label, test.data, K=3, distance = 'euclidean'){\n",
    "    \n",
    "    #count number of train samples\n",
    "    train.len <- nrow(train.data)\n",
    "    \n",
    "    #count number of test samples\n",
    "    test.len <- nrow(test.data)\n",
    "    \n",
    "    #calculate distances between samples\n",
    "    dist <- as.matrix(dist(rbind(test.data, train.data), method= distance))[1:test.len, (test.len+1):(test.len+train.len)]\n",
    "    \n",
    "    #for each test sample...\n",
    "    for (i in 1:test.len){\n",
    "        ### ...find its K nearest neighbours from training sampels...\n",
    "        nn <- as.data.frame(sort(dist[i,], index.return = TRUE))[1:K,2]\n",
    "        \n",
    "        ###... and calculate the predicted labels according to the majority vote\n",
    "        test.label[i]<- (mean(train.label[nn]))\n",
    "    }\n",
    "    \n",
    "    ## return the class labels as output\n",
    "    return (test.label)\n",
    "}"
   ]
  },
  {
   "cell_type": "markdown",
   "metadata": {},
   "source": [
    "## Bootstrapping for KNN regression with L = 100 (the number of subsets), N = 30 (the size of each subset), and K=1,..,20 (the neighbourhood size)"
   ]
  },
  {
   "cell_type": "markdown",
   "metadata": {},
   "source": [
    "#### This part takes time."
   ]
  },
  {
   "cell_type": "code",
   "execution_count": 6,
   "metadata": {},
   "outputs": [],
   "source": [
    "# fix the parameters (20, 100, 25)\n",
    "K <- 20           # Maximum K for KNN \n",
    "L <- 100           # number of datasets\n",
    "N <- 30          # size of datasets\n",
    "\n",
    "# generate bootstrap indices:\n",
    "boot.indx <- boot(nrow(train.data), N, L)\n",
    "\n",
    "# a dataframe to track and record errors\n",
    "error <- data.frame('K'=1:K, 'L'=1:L, 'test'=rep(0,L*K))\n",
    "\n",
    "# THIS MAY TAKE A FEW MINUTES TO COMPLETE\n",
    "## for every k values:\n",
    "for (k in 1: K){\n",
    "    \n",
    "    ### for every dataset sizes:\n",
    "    for (l in 1:L){\n",
    "        \n",
    "        #### calculate iteration index i\n",
    "        i <- (k-1)*L+l\n",
    "        \n",
    "        #### save sample indices that were selected by bootstrap\n",
    "        indx <- boot.indx[l,]\n",
    "        \n",
    "        #### save the value of k and l\n",
    "        error[i,'K'] <- k\n",
    "        error[i,'L'] <- l\n",
    "        \n",
    "        #### calculate and record errors\n",
    "            error[i,'test'] <-  sqrt(mean((knn(train.data[indx, ], train.label[indx], test.data, K=k) - test.label)^2))\n",
    "        \n",
    "    } \n",
    "}"
   ]
  },
  {
   "cell_type": "code",
   "execution_count": 7,
   "metadata": {},
   "outputs": [
    {
     "data": {
      "text/html": [
       "105"
      ],
      "text/latex": [
       "105"
      ],
      "text/markdown": [
       "105"
      ],
      "text/plain": [
       "[1] 105"
      ]
     },
     "metadata": {},
     "output_type": "display_data"
    }
   ],
   "source": [
    "optimum_K <- which(error[,3]==min(error[,3]))\n",
    "optimum_K"
   ]
  },
  {
   "cell_type": "markdown",
   "metadata": {},
   "source": [
    "### Visualization\n",
    "Now we produce the box plot of the error numbers (each of which corresponding to a sample in our bootstrap sampling) we have obtained for our test set for each value of K."
   ]
  },
  {
   "cell_type": "code",
   "execution_count": 8,
   "metadata": {},
   "outputs": [
    {
     "data": {
      "image/png": "[encoded data removed]",
      "text/plain": [
       "plot without title"
      ]
     },
     "metadata": {},
     "output_type": "display_data"
    }
   ],
   "source": [
    "# plot Average Error vs. K (Box Plot)\n",
    "error.m <- melt(error, id=c('K', 'L')) # reshape for visualization\n",
    "names(error.m) <- c('K', 'L', 'type', 'error')\n",
    "\n",
    "ggplot(data=error.m[error.m$type=='test',], aes(factor(K), error,fill=type)) + geom_boxplot(outlier.shape = NA)  + \n",
    "    scale_color_discrete(guide = guide_legend(title = NULL)) + \n",
    "    ggtitle('Average Error vs. K (Box Plot)') + theme_minimal()\n",
    "# ignore the warnings (because of ignoring outliers)\n",
    "options(warn=-1)"
   ]
  },
  {
   "cell_type": "markdown",
   "metadata": {},
   "source": [
    "##### Test error and its uncertainty vs K\n",
    "\n",
    "From the box plot, it can be seen that as the value of K increases the test error increase and its uncertainty also increases. Further, when K becomes high, the uncertainty around the error starts to decrease but the test error continues to increase."
   ]
  },
  {
   "cell_type": "markdown",
   "metadata": {},
   "source": [
    "### Bootstrapping for KNN regression with K=10 (the neighbourhood size), size = 30 (the size of each subset), and change times = 10, 20, 30,.., 200 (the number of subsets)"
   ]
  },
  {
   "cell_type": "code",
   "execution_count": 9,
   "metadata": {},
   "outputs": [],
   "source": [
    "K <- 10           # Maximum K for KNN \n",
    "N <- 30          # size of datasets\n",
    "\n",
    "\n",
    "# times = 10, 20, 30,.., 200 (the number of subsets)\n",
    "\n",
    "times.avgError <- data.frame()\n",
    "\n",
    "for(L in seq(from=10, to=200, by=10)) # for times = 10, 20, 30,.., 200\n",
    "{\n",
    "  boot.indx <- boot(nrow(train.data), N, L)\n",
    "  \n",
    "    for (l in 1:L){\n",
    "    \n",
    "    #### calculate iteration index i\n",
    "    i <- (10-1)*L+l\n",
    "    \n",
    "    #### save sample indices that were selected by bootstrap\n",
    "    indx <- boot.indx[l,]\n",
    "    \n",
    "    #### save the value of k and l\n",
    "    times.avgError[i,'K'] <- 10\n",
    "    times.avgError[i,'L'] <- L\n",
    "    \n",
    "    #### calculate and record errors\n",
    "    times.avgError[i,'test'] <-  sqrt(mean((knn(train.data[indx, ], train.label[indx], test.data, K=k) - test.label)^2))\n",
    "    \n",
    "  }\n",
    "    \n",
    "}\n"
   ]
  },
  {
   "cell_type": "markdown",
   "metadata": {},
   "source": [
    "### Visualization: Test error and its uncertainty behave Vs Number of subsets in bootstrapping"
   ]
  },
  {
   "cell_type": "code",
   "execution_count": 10,
   "metadata": {},
   "outputs": [
    {
     "data": {
      "image/png": "[encoded data removed]",
      "text/plain": [
       "Plot with title \"Average Error vs. L (Box Plot)\""
      ]
     },
     "metadata": {},
     "output_type": "display_data"
    }
   ],
   "source": [
    "# Test error and its uncertainty behave Vs Number of subsets in bootstrapping:\n",
    "\n",
    "times.avgError.m <- melt(times.avgError, id=c('K', 'L')) # reshape for visualization\n",
    "names(times.avgError.m) <- c('K', 'L', 'type', 'times.avgError')\n",
    "\n",
    "boxplot(times.avgError~L, times.avgError.m, main=\"Average Error vs. L (Box Plot)\", \n",
    "        xlab=\"L\", ylab=\"Average Error\", col = \"Red\")"
   ]
  },
  {
   "cell_type": "markdown",
   "metadata": {},
   "source": [
    "##### Test error and its uncertainty behave Vs Number of subsets in bootstrapping\n",
    "\n",
    "From the box plot above, it can be seen that number of subsets in bootstrapping doesn’t have much effect on the error. The error tends be different for different sizes of subsets, but the distribution seems random."
   ]
  }
 ],
 "metadata": {
  "kernelspec": {
   "display_name": "R",
   "language": "R",
   "name": "ir"
  },
  "language_info": {
   "codemirror_mode": "r",
   "file_extension": ".r",
   "mimetype": "text/x-r-source",
   "name": "R",
   "pygments_lexer": "r",
   "version": "3.5.1"
  }
 },
 "nbformat": 4,
 "nbformat_minor": 2
}
