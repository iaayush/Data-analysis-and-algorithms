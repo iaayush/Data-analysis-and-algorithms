{
 "cells": [
  {
   "cell_type": "markdown",
   "metadata": {},
   "source": [
    "## Ridge Regression (linear regression with L2 regularisation)\n",
    "\n",
    "### Task I: Derivation of weight update steps of Stocastic Gradient Descent (SGD) and Batch Gradient Descent (BGD) for Linear Regression with L2 Regularization\n"
   ]
  },
  {
   "cell_type": "markdown",
   "metadata": {},
   "source": [
    "### Importing Libraries"
   ]
  },
  {
   "cell_type": "code",
   "execution_count": 4,
   "metadata": {},
   "outputs": [],
   "source": [
    "options(warn=-1) #to stop the warnings\n",
    "library(ggplot2) # for plotting functions.\n",
    "library(reshape2) # for melt and cast functions"
   ]
  },
  {
   "cell_type": "markdown",
   "metadata": {},
   "source": [
    "### Assigning values to variables used globally "
   ]
  },
  {
   "cell_type": "code",
   "execution_count": 5,
   "metadata": {},
   "outputs": [],
   "source": [
    "\n",
    "# Set initial values for learning rate, termination thershold and lambda \n",
    "epsilon = .001\n",
    "eta = .01\n",
    "lambda = 0.02\n",
    "max_epoch = 18"
   ]
  },
  {
   "cell_type": "code",
   "execution_count": 6,
   "metadata": {},
   "outputs": [],
   "source": [
    "# reading the data\n",
    "read_data <- function(fname, sc) {\n",
    "   data <- read.csv(file=fname,head=TRUE,sep=\",\")\n",
    "   nr = dim(data)[1]\n",
    "   nc = dim(data)[2]\n",
    "   x = data[1:nr,1:(nc-1)]\n",
    "   y = data[1:nr,nc]\n",
    "   if (isTRUE(sc)) {\n",
    "      x = scale(x)\n",
    "      y = scale(y)\n",
    "   }\n",
    "   return (list(\"x\" = x, \"y\" = y))\n",
    "}\n",
    "\n",
    "dtrain = read_data(\"Task1C_train.csv\", TRUE)\n",
    "dtest = read_data(\"Task1C_test.csv\", TRUE)"
   ]
  },
  {
   "cell_type": "code",
   "execution_count": 7,
   "metadata": {},
   "outputs": [],
   "source": [
    "# auxiliary function to calculate labels based on the estimated coefficients\n",
    "predict_func <- function(Phi, w){\n",
    "    return(Phi%*%w) ## Calculate matrix product.\n",
    "} \n",
    "\n",
    "# auxiliary function to calculate the objective function for the training\n",
    "train_obj_func <- function (Phi, w, label, lambda){\n",
    "    # the L2 regulariser is included in the objective function for training \n",
    "    return(mean((predict_func(Phi, w) - label)^2) + .5 * lambda * w %*% w)\n",
    "}\n",
    "\n",
    "# auxiliary function to compute the error of the model\n",
    "get_errors <- function(train_data, test_data, W) {\n",
    "   n_weights = dim(W)[1]\n",
    "   errors = matrix(,nrow=n_weights, ncol=2)\n",
    "   for (tau in 1:n_weights) {\n",
    "      errors[tau,1] = train_obj_func(train_data$x, W[tau,],train_data$y, lambda) # tracks training error\n",
    "      errors[tau,2] = train_obj_func(test_data$x, W[tau,],test_data$y, lambda) # tracks testing error\n",
    "   }\n",
    "   return(errors)\n",
    "}"
   ]
  },
  {
   "cell_type": "markdown",
   "metadata": {},
   "source": [
    "## Task II: Implementation of SGD and BGD algorithms in R\n"
   ]
  },
  {
   "cell_type": "markdown",
   "metadata": {},
   "source": [
    "#### Updating the SGD weight vector"
   ]
  },
  {
   "cell_type": "code",
   "execution_count": 8,
   "metadata": {},
   "outputs": [],
   "source": [
    "sgd_update_weight <- function(W_prev, x, y_true, y_pred, lambda, eta) {\n",
    "   # L2 REG penalty term lambda * W_prev is added to grad\n",
    "   grad = - (y_true-y_pred) * x + (lambda * W_prev)\n",
    "   return(W_prev - eta * grad)\n",
    "}"
   ]
  },
  {
   "cell_type": "markdown",
   "metadata": {},
   "source": [
    "#### Updating the BGD weight vector"
   ]
  },
  {
   "cell_type": "code",
   "execution_count": 9,
   "metadata": {},
   "outputs": [],
   "source": [
    "bgd_update_weight <- function(W_prev, x, y_true, y_pred, lambda, eta) {\n",
    "   # MODIFY THIS FUNCTION FOr L2 REG\n",
    "   grad = -colMeans(matrix((y_true-y_pred),nrow=dim(x)[1],ncol=dim(x)[2]) * x) + (lambda * W_prev)\n",
    "   return (W_prev - eta * grad)\n",
    "}"
   ]
  },
  {
   "cell_type": "markdown",
   "metadata": {},
   "source": [
    "#### Implementation of Stocastic Gradient Descent (SGD) for Linear Regression with L2 Regularization"
   ]
  },
  {
   "cell_type": "code",
   "execution_count": 10,
   "metadata": {},
   "outputs": [],
   "source": [
    "sgd_train <- function(train_x, train_y, lambda, eta, epsilon, max_epoch) {\n",
    "\n",
    "   train_len = dim(train_x)[1]\n",
    "   tau_max = max_epoch * train_len # Maximum number of iterations\n",
    "\n",
    "   W <- matrix(,nrow=tau_max, ncol=ncol(train_x)) # empty matrix to store weight vector\n",
    "   W[1,] <- runif(ncol(train_x))\n",
    "  \n",
    "   tau = 1 # counter \n",
    "   obj_func_val <-matrix(,nrow=tau_max, ncol=1) \n",
    "   obj_func_val[tau,1] = train_obj_func(train_x, W[tau,],train_y, lambda)\n",
    "\n",
    "   while (tau <= tau_max){\n",
    "\n",
    "       # check termination criteria\n",
    "       if (obj_func_val[tau,1]<=epsilon) {break}\n",
    " \n",
    "       # shuffle data:\n",
    "       train_index <- sample(1:train_len, train_len, replace = FALSE)\n",
    "    \n",
    "       # loop over each datapoint\n",
    "       for (i in train_index) {\n",
    "           # increment the counter\n",
    "           tau <- tau + 1\n",
    "           if (tau > tau_max) {break}\n",
    "\n",
    "           # make the weight update\n",
    "           y_pred <- predict_func(train_x[i,], W[tau-1,])\n",
    "           W[tau,] <- sgd_update_weight(W[tau-1,], train_x[i,], train_y[i], y_pred, lambda, eta)\n",
    "\n",
    "           # keep track of the objective funtion\n",
    "           obj_func_val[tau,1] = train_obj_func(train_x, W[tau,],train_y, lambda)\n",
    "       }\n",
    "   }\n",
    "   # resulting values for the training objective function as well as the weights\n",
    "   return(list('vals'=obj_func_val,'W'=W))\n",
    "}"
   ]
  },
  {
   "cell_type": "markdown",
   "metadata": {},
   "source": [
    "#### Implementation of Batch Gradient Descent (BGD) for Linear Regression with L2 Regularization"
   ]
  },
  {
   "cell_type": "code",
   "execution_count": 11,
   "metadata": {},
   "outputs": [],
   "source": [
    "bgd_train <- function(train_x, train_y, lambda, eta, epsilon, max_epoch) {\n",
    "\n",
    "   train_len = dim(train_x)[1]\n",
    "\n",
    "   W <- matrix(,nrow=(max_epoch+1), ncol=ncol(train_x))\n",
    "   W[1,] <- runif(ncol(train_x))\n",
    "\n",
    "   tau = 1 # counter \n",
    "   obj_func_val <-matrix(,nrow=(max_epoch+1), ncol=1)\n",
    "   obj_func_val[tau,1] = train_obj_func(train_x, W[tau,],train_y, lambda)\n",
    "\n",
    "   trainin_size = dim(train_x)[1]\n",
    "   for (tau in 1:max_epoch){\n",
    "\n",
    "       # check termination criteria\n",
    "       if (obj_func_val[tau,1]<=epsilon) {break}\n",
    "\n",
    "       # make prediction over the training set\n",
    "       y_pred = train_x %*% W[tau,]\n",
    "\n",
    "       # update the weight you may decide to chose linea search or not (we are not using line search here)\n",
    "       W[tau+1,] = bgd_update_weight(W[tau,], train_x, train_y, y_pred, lambda, eta)\n",
    "\n",
    "       # keep track of the objective funtion\n",
    "       obj_func_val[tau+1,1] = train_obj_func(train_x, W[tau+1,],train_y, lambda)\n",
    "   } \n",
    "   # resulting values for the training objective function as well as the weights\n",
    "   return(list('vals'=obj_func_val,'W'=W))\n",
    "}"
   ]
  },
  {
   "cell_type": "markdown",
   "metadata": {},
   "source": [
    "## Task III: Compare SGD and BGD implementations"
   ]
  },
  {
   "cell_type": "markdown",
   "metadata": {},
   "source": [
    "#### Run SGD and BGD"
   ]
  },
  {
   "cell_type": "code",
   "execution_count": 12,
   "metadata": {},
   "outputs": [],
   "source": [
    "sgd_train_res = sgd_train(dtrain$x, dtrain$y, lambda, eta, epsilon, max_epoch) # Initialize and run SGD\n",
    "sgd_errors = get_errors(dtrain, dtest, sgd_train_res$W)\n",
    "\n",
    "bgd_train_res = bgd_train(dtrain$x, dtrain$y, lambda, eta, epsilon, max_epoch) # Initialize and run BGD\n",
    "bgd_errors = get_errors(dtrain, dtest, bgd_train_res$W)"
   ]
  },
  {
   "cell_type": "markdown",
   "metadata": {},
   "source": [
    "#### Plot of error rates for SGD and BGD"
   ]
  },
  {
   "cell_type": "code",
   "execution_count": 13,
   "metadata": {},
   "outputs": [
    {
     "data": {
      "image/png": "[encoded data removed]",
      "text/plain": [
       "Plot with title \"Error Rates Using SGD vs BGD\""
      ]
     },
     "metadata": {},
     "output_type": "display_data"
    }
   ],
   "source": [
    "plot(bgd_errors[,1], type=\"p\", col=\"blue\",ylim=c(0,1), xlim=c(0,18600), xlab=\"Number of Iterations\", ylab=\"Error\",main=\"Error Rates Using SGD vs BGD\")\n",
    "lines(sgd_errors[,1], type=\"l\", col=\"black\")\n",
    "legend(\"topright\", legend = c(\"SGD\", \"BGD\"), col = c(1, 4), pch = c(15, 15))"
   ]
  }
 ],
 "metadata": {
  "kernelspec": {
   "display_name": "R",
   "language": "R",
   "name": "ir"
  },
  "language_info": {
   "codemirror_mode": "r",
   "file_extension": ".r",
   "mimetype": "text/x-r-source",
   "name": "R",
   "pygments_lexer": "r",
   "version": "3.5.1"
  }
 },
 "nbformat": 4,
 "nbformat_minor": 2
}
