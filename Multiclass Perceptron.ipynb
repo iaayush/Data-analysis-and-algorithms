{
 "cells": [
  {
   "cell_type": "markdown",
   "metadata": {},
   "source": [
    "# Multiclass Perceptron\n",
    "### Implementing Multiclass Perceptron\n",
    "\n",
    "Background. Assume we have N training examples {(x1,t1),...,(xN,tN)} where tn can get K discrete values {C1, ..., CK}, i.e. a K-class classification problem. We use 𝑦\" to represent the predicted label of 𝑥\"\n",
    "\n",
    "Model. To solve a K-class classification problem, we can learn K weight vectors $W_k$ , each of\n",
    "which corresponding to one of the classes.\n",
    "\n",
    "Prediction. In the prediction time, a data point x will be classified as argmaxk wk . x"
   ]
  },
  {
   "cell_type": "code",
   "execution_count": 1,
   "metadata": {},
   "outputs": [
    {
     "data": {
      "text/html": [
       "<ol class=list-inline>\n",
       "\t<li>C1</li>\n",
       "\t<li>C1</li>\n",
       "\t<li>C1</li>\n",
       "\t<li>C1</li>\n",
       "\t<li>C1</li>\n",
       "\t<li>C1</li>\n",
       "</ol>\n",
       "\n",
       "<details>\n",
       "\t<summary style=display:list-item;cursor:pointer>\n",
       "\t\t<strong>Levels</strong>:\n",
       "\t</summary>\n",
       "\t<ol class=list-inline>\n",
       "\t\t<li>'C1'</li>\n",
       "\t\t<li>'C2'</li>\n",
       "\t\t<li>'C3'</li>\n",
       "\t</ol>\n",
       "</details>"
      ],
      "text/latex": [
       "\\begin{enumerate*}\n",
       "\\item C1\n",
       "\\item C1\n",
       "\\item C1\n",
       "\\item C1\n",
       "\\item C1\n",
       "\\item C1\n",
       "\\end{enumerate*}\n",
       "\n",
       "\\emph{Levels}: \\begin{enumerate*}\n",
       "\\item 'C1'\n",
       "\\item 'C2'\n",
       "\\item 'C3'\n",
       "\\end{enumerate*}\n"
      ],
      "text/markdown": [
       "1. C1\n",
       "2. C1\n",
       "3. C1\n",
       "4. C1\n",
       "5. C1\n",
       "6. C1\n",
       "\n",
       "\n",
       "\n",
       "**Levels**: 1. 'C1'\n",
       "2. 'C2'\n",
       "3. 'C3'\n",
       "\n",
       "\n"
      ],
      "text/plain": [
       "[1] C1 C1 C1 C1 C1 C1\n",
       "Levels: C1 C2 C3"
      ]
     },
     "metadata": {},
     "output_type": "display_data"
    }
   ],
   "source": [
    "dtrain <- read.csv(\"Task1D_train.csv\",head=TRUE,sep=\",\") # training data used to train the model\n",
    "dtest <- read.csv(\"Task1D_test.csv\",head=TRUE,sep=\",\") # test data to test the performance of learned model\n",
    "\n",
    "\n",
    "# Following function is used to separate input variables and class labels\n",
    "dataAndLabels <- function(data){\n",
    "    nr = dim(data)[1]\n",
    "    nc = dim(data)[2]\n",
    "    x = data[1:nr,1:(nc-1)]\n",
    "    y = data[1:nr,nc]\n",
    "    return (list(\"x\" = x, \"y\" = y))\n",
    "}\n",
    "train.data <- dataAndLabels(dtrain)\n",
    "test.data <- dataAndLabels(dtest)\n",
    "head(train.data$y)"
   ]
  },
  {
   "cell_type": "markdown",
   "metadata": {},
   "source": [
    "### Importing Libraries"
   ]
  },
  {
   "cell_type": "code",
   "execution_count": 3,
   "metadata": {},
   "outputs": [],
   "source": [
    "## Load required libraries:\n",
    "options(warn=-1)\n",
    "library(MASS) # generates multivariate Gaussian sampels\n",
    "library(ggplot2)\n",
    "library(reshape2)\n",
    "\n",
    "## Initialization\n",
    "set.seed(1234)"
   ]
  },
  {
   "cell_type": "markdown",
   "metadata": {},
   "source": [
    "### Task II and III: Implementation of Multiclass Perceptron Model:\n",
    "\n",
    "To solve a K-class classification problem, we can learn K weight vectors $W_k$ , each of which corresponding to one of the classes.\n",
    "\n",
    "After processing every 5 training data points (also known as a mini-batch), the error of the current model on the test data is recorded."
   ]
  },
  {
   "cell_type": "code",
   "execution_count": 4,
   "metadata": {},
   "outputs": [],
   "source": [
    "## Basis function Phi\n",
    "Phi <- as.matrix(cbind(1, train.data$x)) # add a column of 1s\n",
    "Phi.test <- as.matrix(cbind(1, test.data$x))\n",
    "# head(Phi)"
   ]
  },
  {
   "cell_type": "code",
   "execution_count": 5,
   "metadata": {},
   "outputs": [],
   "source": [
    "# Initialization of parameters\n",
    "eta <- 0.09 # Learning rate\n",
    "tau.max <- 100 # Maximum number of iterations\n",
    "epsilon <- 0.001 # Stoping criterion\n",
    "\n",
    "tau <- 1 # iteration counter \n",
    "terminate <- FALSE # termination status"
   ]
  },
  {
   "cell_type": "markdown",
   "metadata": {},
   "source": [
    "#### Create weight vectors corresponding to each class in target variable. In present case, there are three classes namely C1, C2, and C3."
   ]
  },
  {
   "cell_type": "code",
   "execution_count": 6,
   "metadata": {},
   "outputs": [
    {
     "name": "stdout",
     "output_type": "stream",
     "text": [
      "[1] \"C1\" \"C2\" \"C3\"\n"
     ]
    },
    {
     "data": {
      "text/html": [
       "<ol class=list-inline>\n",
       "\t<li>0.113703411305323</li>\n",
       "\t<li>0.622299404814839</li>\n",
       "\t<li>0.609274732880294</li>\n",
       "\t<li>0.623379441676661</li>\n",
       "\t<li>0.860915383556858</li>\n",
       "</ol>\n"
      ],
      "text/latex": [
       "\\begin{enumerate*}\n",
       "\\item 0.113703411305323\n",
       "\\item 0.622299404814839\n",
       "\\item 0.609274732880294\n",
       "\\item 0.623379441676661\n",
       "\\item 0.860915383556858\n",
       "\\end{enumerate*}\n"
      ],
      "text/markdown": [
       "1. 0.113703411305323\n",
       "2. 0.622299404814839\n",
       "3. 0.609274732880294\n",
       "4. 0.623379441676661\n",
       "5. 0.860915383556858\n",
       "\n",
       "\n"
      ],
      "text/plain": [
       "[1] 0.1137034 0.6222994 0.6092747 0.6233794 0.8609154"
      ]
     },
     "metadata": {},
     "output_type": "display_data"
    }
   ],
   "source": [
    "# Check the number of classes in the data\n",
    "print(levels(train.data$y))\n",
    "\n",
    "# Create a weight vector for classes C1, C2, and C3\n",
    "\n",
    "W = list() # A list to hold weight vectors for C1, C2, and C3\n",
    "W$C1 <- matrix(,nrow=tau.max, ncol=ncol(Phi)) # Empty matrix for C1 class's weight vector\n",
    "W$C1[1,] <- runif(ncol(Phi)) # Random initial values for weight vector\n",
    "W$C2 <- matrix(,nrow=tau.max, ncol=ncol(Phi)) # Empty matrix for C2 class's weight vector\n",
    "W$C2[1,] <- runif(ncol(Phi)) # Random initial values for weight vector\n",
    "W$C3 <- matrix(,nrow=tau.max, ncol=ncol(Phi)) # Empty matrix for C3 class's weight vector\n",
    "W$C3[1,] <- runif(ncol(Phi)) # Random initial values for weight vector\n",
    "x = \"C1\"\n",
    "W[[x]][1,]\n",
    "# define an empty data frame to store test error for every mini batch\n",
    "errors <- data.frame('dataPoints' = numeric(), 'miniBatch' = numeric(), 'testError' = numeric(), 'tau' = numeric())\n",
    "trainingError <- data.frame()"
   ]
  },
  {
   "cell_type": "markdown",
   "metadata": {},
   "source": [
    "##### Prediction function to make prediction of class label based on the score calculated by using input variable and corresponding weight vector."
   ]
  },
  {
   "cell_type": "code",
   "execution_count": 7,
   "metadata": {},
   "outputs": [],
   "source": [
    "# predict_class function predicts the classlable for a given set of input variable\n",
    "class_predict <- function(Phi, tau){\n",
    "    C1_score = W$C1[tau,] %*% Phi\n",
    "    C2_score = W$C2[tau,] %*% Phi\n",
    "    C3_score = W$C3[tau,] %*% Phi\n",
    "\n",
    "    prediction = max(C1_score, C2_score, C3_score) # make prediction based on the highest score\n",
    "    \n",
    "    # return the lable for the predicted class\n",
    "    if(prediction == C1_score)\n",
    "        return ('C1')\n",
    "    if(prediction == C2_score)\n",
    "        return ('C2')\n",
    "    if(prediction == C3_score)\n",
    "        return ('C3')    \n",
    "}"
   ]
  },
  {
   "cell_type": "markdown",
   "metadata": {},
   "source": [
    "##### The following is the main loop where we learn the model paramters using SGD."
   ]
  },
  {
   "cell_type": "code",
   "execution_count": 8,
   "metadata": {},
   "outputs": [],
   "source": [
    "dataPoints = 1 # counter to count total number of data points processed for training the model\n",
    "\n",
    "# Main Loop (Step 2):\n",
    "while(!terminate){\n",
    "    # resuffling train data and associated labels:\n",
    "    train.index <- sample(1:nrow(train.data$x), replace = FALSE)\n",
    "    train.data$y <- train.data$y[train.index]\n",
    "    Phi <- Phi[train.index,]\n",
    "    \n",
    "    er_train = 0\n",
    "    for (i in train.index){\n",
    "        if (tau == tau.max) {break}\n",
    "        \n",
    "        # call predict_class function to make a prediction\n",
    "        predictedClass = class_predict(Phi[i,], tau)\n",
    "        trueClass = toString(train.data$y[i])\n",
    "\n",
    "        # Check predicted class against true class and if not a true predictin, update weight for the predicted class and\n",
    "        # true class\n",
    "        if (predictedClass != trueClass){\n",
    "            # update tau counter\n",
    "            tau <- tau +1\n",
    "            er_train = er_train + 1 # update training error count\n",
    "            \n",
    "            # update the weights. Weight for wrong prediction is decreased and weight for true class is increased to improve\n",
    "            # selection criteria of model\n",
    "            W[[trueClass]][tau,] = W[[trueClass]][tau-1,] + (eta * Phi[i,])\n",
    "            W[[predictedClass]][tau,] = W[[predictedClass]][tau-1,] - (eta * Phi[i,])\n",
    "            \n",
    "            # Just update the weight vector for the remaining class with same values\n",
    "            remainingClass = setdiff(c('C1', 'C2', 'C3'), c(trueClass, predictedClass)) # select the remaining class\n",
    "            W[[remainingClass]][tau,] = W[[remainingClass]][tau-1,]\n",
    "        }\n",
    "        \n",
    "        if (dataPoints %% 5 == 0){\n",
    "            error = 0 # to count number of mispredictions\n",
    "\n",
    "            for (j in 1:nrow(test.data$x)){\n",
    "                \n",
    "                prediction = class_predict(Phi.test[j,], tau)\n",
    "                if (prediction != toString(test.data$y[j])){\n",
    "                    error = error + 1\n",
    "                }\n",
    "            }\n",
    "            # compute error for the current batch\n",
    "            error = error / nrow(test.data$x)\n",
    "            # save the data frame\n",
    "            errors[nrow(errors)+1, 'dataPoints'] = dataPoints # update row value\n",
    "            errors[nrow(errors), 'miniBatch'] = dataPoints/5 \n",
    "            errors[nrow(errors), 'testError'] = error\n",
    "            errors[nrow(errors), 'tau'] = tau          \n",
    "\n",
    "        }\n",
    "        dataPoints = dataPoints + 1\n",
    "        \n",
    "    }\n",
    "\n",
    "    # decrease eta:\n",
    "    eta = eta * 0.99\n",
    "    \n",
    "    # calculate training error\n",
    "    trainingError[nrow(trainingError)+1, 1] = er_train/ length(train.index)\n",
    "    \n",
    "    # check termination conditions\n",
    "    if (tau >= tau.max){\n",
    "        terminate <- TRUE\n",
    "    }\n",
    "    else if (nrow(trainingError) >= 2 && trainingError[nrow(trainingError),1] < 0.03){\n",
    "        # check if there is atleast two recorded training errors and training error is less than 3%\n",
    "        improvement = trainingError[nrow(trainingError),1] - trainingError[nrow(trainingError)-1, 1]\n",
    "        terminate = improvement < epsilon # terminate if the improvement is minimal\n",
    "        }\n",
    "}\n",
    "\n",
    "W$C1 <- W$C1[1:tau,] # cut the empty part of the matrix (when the loop stops before tau == tau.max)\n",
    "W$C2 <- W$C2[1:tau,]\n",
    "W$C3 <- W$C3[1:tau,]"
   ]
  },
  {
   "cell_type": "markdown",
   "metadata": {},
   "source": [
    "##### Let's see the errors"
   ]
  },
  {
   "cell_type": "code",
   "execution_count": 9,
   "metadata": {},
   "outputs": [
    {
     "data": {
      "text/html": [
       "<table>\n",
       "<caption>A data.frame: 6 × 4</caption>\n",
       "<thead>\n",
       "\t<tr><th scope=col>dataPoints</th><th scope=col>miniBatch</th><th scope=col>testError</th><th scope=col>tau</th></tr>\n",
       "\t<tr><th scope=col>&lt;dbl&gt;</th><th scope=col>&lt;dbl&gt;</th><th scope=col>&lt;dbl&gt;</th><th scope=col>&lt;dbl&gt;</th></tr>\n",
       "</thead>\n",
       "<tbody>\n",
       "\t<tr><td> 5</td><td>1</td><td>0.6666667</td><td> 4</td></tr>\n",
       "\t<tr><td>10</td><td>2</td><td>0.6666667</td><td> 8</td></tr>\n",
       "\t<tr><td>15</td><td>3</td><td>0.6666667</td><td>10</td></tr>\n",
       "\t<tr><td>20</td><td>4</td><td>0.3600000</td><td>13</td></tr>\n",
       "\t<tr><td>25</td><td>5</td><td>0.6666667</td><td>16</td></tr>\n",
       "\t<tr><td>30</td><td>6</td><td>0.4000000</td><td>20</td></tr>\n",
       "</tbody>\n",
       "</table>\n"
      ],
      "text/latex": [
       "A data.frame: 6 × 4\n",
       "\\begin{tabular}{r|llll}\n",
       " dataPoints & miniBatch & testError & tau\\\\\n",
       " <dbl> & <dbl> & <dbl> & <dbl>\\\\\n",
       "\\hline\n",
       "\t  5 & 1 & 0.6666667 &  4\\\\\n",
       "\t 10 & 2 & 0.6666667 &  8\\\\\n",
       "\t 15 & 3 & 0.6666667 & 10\\\\\n",
       "\t 20 & 4 & 0.3600000 & 13\\\\\n",
       "\t 25 & 5 & 0.6666667 & 16\\\\\n",
       "\t 30 & 6 & 0.4000000 & 20\\\\\n",
       "\\end{tabular}\n"
      ],
      "text/markdown": [
       "\n",
       "A data.frame: 6 × 4\n",
       "\n",
       "| dataPoints &lt;dbl&gt; | miniBatch &lt;dbl&gt; | testError &lt;dbl&gt; | tau &lt;dbl&gt; |\n",
       "|---|---|---|---|\n",
       "|  5 | 1 | 0.6666667 |  4 |\n",
       "| 10 | 2 | 0.6666667 |  8 |\n",
       "| 15 | 3 | 0.6666667 | 10 |\n",
       "| 20 | 4 | 0.3600000 | 13 |\n",
       "| 25 | 5 | 0.6666667 | 16 |\n",
       "| 30 | 6 | 0.4000000 | 20 |\n",
       "\n"
      ],
      "text/plain": [
       "  dataPoints miniBatch testError tau\n",
       "1  5         1         0.6666667  4 \n",
       "2 10         2         0.6666667  8 \n",
       "3 15         3         0.6666667 10 \n",
       "4 20         4         0.3600000 13 \n",
       "5 25         5         0.6666667 16 \n",
       "6 30         6         0.4000000 20 "
      ]
     },
     "metadata": {},
     "output_type": "display_data"
    }
   ],
   "source": [
    "head(errors)"
   ]
  },
  {
   "cell_type": "markdown",
   "metadata": {},
   "source": [
    "### Visualization\n",
    "Plot: \"Number of Mini-batches vs. Test Error\""
   ]
  },
  {
   "cell_type": "code",
   "execution_count": 10,
   "metadata": {},
   "outputs": [
    {
     "name": "stdout",
     "output_type": "stream",
     "text": [
      "[1] 0.04\n"
     ]
    },
    {
     "data": {
      "image/png": "[encoded data removed]",
      "text/plain": [
       "Plot with title \"Number of Mini-batches vs. Test Error\""
      ]
     },
     "metadata": {},
     "output_type": "display_data"
    }
   ],
   "source": [
    "# minimum error\n",
    "print(min(errors[ ,'testError']))\n",
    "\n",
    "## ## plot number of mini batches vs test error\n",
    "plot(x = errors[ ,'miniBatch'], y =errors[ ,'testError'], ylim = c(0,max(errors[ ,'testError']*1.25)), type = 'l', \n",
    "     col = 'blue', main = \"Number of Mini-batches vs. Test Error\", xlab = \"Number of Mini-batches\", ylab = \"Test Error\",\n",
    "     sub = \"One mini-batch is Five data points\")\n",
    "errors.m <- melt(as.data.frame(errors), id='miniBatch')\n",
    "\n",
    "# tau vs test error\n",
    "# plot(x = errors[ ,'tau'], y =errors[ ,'testError']*100, ylim = c(0,max(errors[ ,'testError']*1.25*100)), type = 'l', \n",
    "#      col = 'blue', main = \"Number of Mini-batches vs. Test Error\", xlab = \"Number of Mini-batches\", ylab = \"Test Error\",\n",
    "#      sub = \"One mini-batch is Five data points\")"
   ]
  },
  {
   "cell_type": "markdown",
   "metadata": {},
   "source": [
    "### Observations\n",
    "\n",
    "1. Test error for the model decreases with increase in the number of mini-batches but at same time error fluctuates highly.\n",
    "\n",
    "2. From mini-batch 30 to 45 the error rate is minimum (0.01) for the model.\n"
   ]
  },
  {
   "cell_type": "markdown",
   "metadata": {},
   "source": [
    "### K(K−1)/2 classifier and One-versus-one approach to solve the multi-class classification problem\n",
    "\n",
    "The idea is to build K(K−1)/2 classifiers for each possible pair of classes where K is the number of classes. Each point is then classified according to a majority vote among the discriminant functions."
   ]
  }
 ],
 "metadata": {
  "kernelspec": {
   "display_name": "R",
   "language": "R",
   "name": "ir"
  },
  "language_info": {
   "codemirror_mode": "r",
   "file_extension": ".r",
   "mimetype": "text/x-r-source",
   "name": "R",
   "pygments_lexer": "r",
   "version": "3.5.1"
  }
 },
 "nbformat": 4,
 "nbformat_minor": 2
}
