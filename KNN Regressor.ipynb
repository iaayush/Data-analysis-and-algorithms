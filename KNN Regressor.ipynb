{
 "cells": [
  {
   "cell_type": "markdown",
   "metadata": {},
   "source": [
    "# Model Complexity and Model Selection\n",
    "## K-Nearest Neighbour (KNN) Regressor\n",
    "\n",
    "* Implement the KNN Regressor function \n",
    "* Plot the training and the > errors versus 1/K for K=1,..,20\n",
    "* Report the optimum value for K in terms of the testing error\n",
    "\n",
    "Function knn(train.data, test.data, K=3, distance = 'euclidean'), takes training data and their labels(continuous values), the test data and size of neighbourhood(K). And, should return the regressed values for the test data points."
   ]
  },
  {
   "cell_type": "markdown",
   "metadata": {},
   "source": [
    "### Importing libraries"
   ]
  },
  {
   "cell_type": "code",
   "execution_count": 1,
   "metadata": {},
   "outputs": [
    {
     "name": "stderr",
     "output_type": "stream",
     "text": [
      "Warning message:\n",
      "\"package 'reshape2' was built under R version 3.5.3\"Warning message:\n",
      "\"package 'ggplot2' was built under R version 3.5.3\"corrplot 0.84 loaded\n"
     ]
    }
   ],
   "source": [
    "library(reshape2)\n",
    "library(ggplot2)\n",
    "library(corrplot)"
   ]
  },
  {
   "cell_type": "code",
   "execution_count": 2,
   "metadata": {},
   "outputs": [],
   "source": [
    "# Defining KNN Regressor function\n",
    "\n",
    "knn <- function(train.data, train.label, test.data, K=3, distance = 'euclidean'){\n",
    "    ## count number of train samples\n",
    "    train.len <- nrow(train.data)\n",
    "    \n",
    "    ## count number of test samples\n",
    "    test.len <- nrow(test.data)\n",
    "    \n",
    "    ## calculate distances between samples\n",
    "    dist <- as.matrix(dist(rbind(test.data, train.data), method = distance))[1:test.len, (test.len+1):(test.len+train.len)]\n",
    "    \n",
    "    ## for each test sample...\n",
    "    for (i in 1:test.len){\n",
    "        ### ...find its K nearest neighbours from training sampels...\n",
    "        nn <- as.data.frame(sort(dist[i,], index.return = TRUE))[1:K,2]\n",
    "        \n",
    "        ###... and calculate the predicted labels according to the majority vote\n",
    "        test.label[i,]<- (mean(train.label[nn,]))\n",
    "    }\n",
    "    \n",
    "    ## return the class labels as output\n",
    "    return (test.label)\n",
    "}"
   ]
  },
  {
   "cell_type": "markdown",
   "metadata": {},
   "source": [
    "### Importing the train and test datasets"
   ]
  },
  {
   "cell_type": "code",
   "execution_count": 3,
   "metadata": {},
   "outputs": [
    {
     "data": {
      "text/html": [
       "<ol class=list-inline>\n",
       "\t<li>42</li>\n",
       "\t<li>2</li>\n",
       "</ol>\n"
      ],
      "text/latex": [
       "\\begin{enumerate*}\n",
       "\\item 42\n",
       "\\item 2\n",
       "\\end{enumerate*}\n"
      ],
      "text/markdown": [
       "1. 42\n",
       "2. 2\n",
       "\n",
       "\n"
      ],
      "text/plain": [
       "[1] 42  2"
      ]
     },
     "metadata": {},
     "output_type": "display_data"
    },
    {
     "data": {
      "text/html": [
       "<table>\n",
       "<caption>A data.frame: 6 × 2</caption>\n",
       "<thead>\n",
       "\t<tr><th scope=col>x1</th><th scope=col>y</th></tr>\n",
       "\t<tr><th scope=col>&lt;dbl&gt;</th><th scope=col>&lt;dbl&gt;</th></tr>\n",
       "</thead>\n",
       "<tbody>\n",
       "\t<tr><td>1960.0</td><td>0.71</td></tr>\n",
       "\t<tr><td>1960.5</td><td>0.85</td></tr>\n",
       "\t<tr><td>1961.0</td><td>0.61</td></tr>\n",
       "\t<tr><td>1961.5</td><td>0.92</td></tr>\n",
       "\t<tr><td>1962.0</td><td>0.72</td></tr>\n",
       "\t<tr><td>1962.5</td><td>0.92</td></tr>\n",
       "</tbody>\n",
       "</table>\n"
      ],
      "text/latex": [
       "A data.frame: 6 × 2\n",
       "\\begin{tabular}{r|ll}\n",
       " x1 & y\\\\\n",
       " <dbl> & <dbl>\\\\\n",
       "\\hline\n",
       "\t 1960.0 & 0.71\\\\\n",
       "\t 1960.5 & 0.85\\\\\n",
       "\t 1961.0 & 0.61\\\\\n",
       "\t 1961.5 & 0.92\\\\\n",
       "\t 1962.0 & 0.72\\\\\n",
       "\t 1962.5 & 0.92\\\\\n",
       "\\end{tabular}\n"
      ],
      "text/markdown": [
       "\n",
       "A data.frame: 6 × 2\n",
       "\n",
       "| x1 &lt;dbl&gt; | y &lt;dbl&gt; |\n",
       "|---|---|\n",
       "| 1960.0 | 0.71 |\n",
       "| 1960.5 | 0.85 |\n",
       "| 1961.0 | 0.61 |\n",
       "| 1961.5 | 0.92 |\n",
       "| 1962.0 | 0.72 |\n",
       "| 1962.5 | 0.92 |\n",
       "\n"
      ],
      "text/plain": [
       "  x1     y   \n",
       "1 1960.0 0.71\n",
       "2 1960.5 0.85\n",
       "3 1961.0 0.61\n",
       "4 1961.5 0.92\n",
       "5 1962.0 0.72\n",
       "6 1962.5 0.92"
      ]
     },
     "metadata": {},
     "output_type": "display_data"
    },
    {
     "data": {
      "text/html": [
       "<ol class=list-inline>\n",
       "\t<li>42</li>\n",
       "\t<li>2</li>\n",
       "</ol>\n"
      ],
      "text/latex": [
       "\\begin{enumerate*}\n",
       "\\item 42\n",
       "\\item 2\n",
       "\\end{enumerate*}\n"
      ],
      "text/markdown": [
       "1. 42\n",
       "2. 2\n",
       "\n",
       "\n"
      ],
      "text/plain": [
       "[1] 42  2"
      ]
     },
     "metadata": {},
     "output_type": "display_data"
    },
    {
     "data": {
      "text/html": [
       "<table>\n",
       "<caption>A data.frame: 6 × 2</caption>\n",
       "<thead>\n",
       "\t<tr><th scope=col>x1</th><th scope=col>y</th></tr>\n",
       "\t<tr><th scope=col>&lt;dbl&gt;</th><th scope=col>&lt;dbl&gt;</th></tr>\n",
       "</thead>\n",
       "<tbody>\n",
       "\t<tr><td>1960.25</td><td>0.63</td></tr>\n",
       "\t<tr><td>1960.75</td><td>0.44</td></tr>\n",
       "\t<tr><td>1961.25</td><td>0.69</td></tr>\n",
       "\t<tr><td>1961.75</td><td>0.55</td></tr>\n",
       "\t<tr><td>1962.25</td><td>0.77</td></tr>\n",
       "\t<tr><td>1962.75</td><td>0.60</td></tr>\n",
       "</tbody>\n",
       "</table>\n"
      ],
      "text/latex": [
       "A data.frame: 6 × 2\n",
       "\\begin{tabular}{r|ll}\n",
       " x1 & y\\\\\n",
       " <dbl> & <dbl>\\\\\n",
       "\\hline\n",
       "\t 1960.25 & 0.63\\\\\n",
       "\t 1960.75 & 0.44\\\\\n",
       "\t 1961.25 & 0.69\\\\\n",
       "\t 1961.75 & 0.55\\\\\n",
       "\t 1962.25 & 0.77\\\\\n",
       "\t 1962.75 & 0.60\\\\\n",
       "\\end{tabular}\n"
      ],
      "text/markdown": [
       "\n",
       "A data.frame: 6 × 2\n",
       "\n",
       "| x1 &lt;dbl&gt; | y &lt;dbl&gt; |\n",
       "|---|---|\n",
       "| 1960.25 | 0.63 |\n",
       "| 1960.75 | 0.44 |\n",
       "| 1961.25 | 0.69 |\n",
       "| 1961.75 | 0.55 |\n",
       "| 1962.25 | 0.77 |\n",
       "| 1962.75 | 0.60 |\n",
       "\n"
      ],
      "text/plain": [
       "  x1      y   \n",
       "1 1960.25 0.63\n",
       "2 1960.75 0.44\n",
       "3 1961.25 0.69\n",
       "4 1961.75 0.55\n",
       "5 1962.25 0.77\n",
       "6 1962.75 0.60"
      ]
     },
     "metadata": {},
     "output_type": "display_data"
    }
   ],
   "source": [
    "train.data <- read.csv(\"Task1A_train.csv\") # read the csv file in R dataframe \n",
    "dim(train.data) # 42 rows and 2 columns\n",
    "head(train.data)\n",
    "\n",
    "test.data <- read.csv(\"Task1A_test.csv\")  ## read the csv file in R dataframe\n",
    "dim(test.data) # 42 rows and 2 columns\n",
    "head(test.data)"
   ]
  },
  {
   "cell_type": "code",
   "execution_count": 4,
   "metadata": {},
   "outputs": [],
   "source": [
    "# from the data frame let's seperate the data & label from both train and test dataset.\n",
    "train.label <- train.data[2]\n",
    "train.data <- train.data[1]\n",
    "test.label <- test.data[2]\n",
    "test.data <- test.data[1]"
   ]
  },
  {
   "cell_type": "code",
   "execution_count": 5,
   "metadata": {
    "scrolled": true
   },
   "outputs": [
    {
     "data": {
      "text/html": [
       "<table>\n",
       "<caption>A data.frame: 6 × 1</caption>\n",
       "<thead>\n",
       "\t<tr><th scope=col>y</th></tr>\n",
       "\t<tr><th scope=col>&lt;dbl&gt;</th></tr>\n",
       "</thead>\n",
       "<tbody>\n",
       "\t<tr><td>0.7233333</td></tr>\n",
       "\t<tr><td>0.7233333</td></tr>\n",
       "\t<tr><td>0.7933333</td></tr>\n",
       "\t<tr><td>0.7500000</td></tr>\n",
       "\t<tr><td>0.8533333</td></tr>\n",
       "\t<tr><td>0.8233333</td></tr>\n",
       "</tbody>\n",
       "</table>\n"
      ],
      "text/latex": [
       "A data.frame: 6 × 1\n",
       "\\begin{tabular}{r|l}\n",
       " y\\\\\n",
       " <dbl>\\\\\n",
       "\\hline\n",
       "\t 0.7233333\\\\\n",
       "\t 0.7233333\\\\\n",
       "\t 0.7933333\\\\\n",
       "\t 0.7500000\\\\\n",
       "\t 0.8533333\\\\\n",
       "\t 0.8233333\\\\\n",
       "\\end{tabular}\n"
      ],
      "text/markdown": [
       "\n",
       "A data.frame: 6 × 1\n",
       "\n",
       "| y &lt;dbl&gt; |\n",
       "|---|\n",
       "| 0.7233333 |\n",
       "| 0.7233333 |\n",
       "| 0.7933333 |\n",
       "| 0.7500000 |\n",
       "| 0.8533333 |\n",
       "| 0.8233333 |\n",
       "\n"
      ],
      "text/plain": [
       "  y        \n",
       "1 0.7233333\n",
       "2 0.7233333\n",
       "3 0.7933333\n",
       "4 0.7500000\n",
       "5 0.8533333\n",
       "6 0.8233333"
      ]
     },
     "metadata": {},
     "output_type": "display_data"
    }
   ],
   "source": [
    "# let see what is the prediciton of our knn for test samples when K=3\n",
    "head(knn(train.data, train.label,test.data, K=3)) # let's review how our output looks given k=6"
   ]
  },
  {
   "cell_type": "markdown",
   "metadata": {},
   "source": [
    "### Calculating the Test Errors\n",
    "> ##### We will be using  mean square error."
   ]
  },
  {
   "cell_type": "code",
   "execution_count": 6,
   "metadata": {},
   "outputs": [
    {
     "data": {
      "text/html": [
       "11"
      ],
      "text/latex": [
       "11"
      ],
      "text/markdown": [
       "11"
      ],
      "text/plain": [
       "[1] 11"
      ]
     },
     "metadata": {},
     "output_type": "display_data"
    }
   ],
   "source": [
    "# calculate the train and test missclassification rates for K in 1:20\n",
    "# THIS MAY TAKE A FEW MINUTES TO COMPLETE!\n",
    "error <- data.frame('K'=1:20, 'train'=rep(0,20), 'test'=rep(0,20))\n",
    "for (k in 1:20){\n",
    "    error[k,'train'] <- sum((knn(train.data, train.label, train.data, K=k) - train.label) ^ 2)/nrow(train.data)\n",
    "    error[k,'test'] <-  sum((knn(train.data, train.label, test.data, K=k)  - test.label)^2)/nrow(test.data)\n",
    "}\n",
    "optimum_K <- which(error[,3]==min(error[,3]))\n",
    "optimum_K # optimum value of K that gives minimum test error"
   ]
  },
  {
   "cell_type": "markdown",
   "metadata": {},
   "source": [
    "### Plot the training and the testing errors versus 1/K for K=1,..,20"
   ]
  },
  {
   "cell_type": "code",
   "execution_count": 7,
   "metadata": {},
   "outputs": [
    {
     "data": {
      "image/png": "[encoded data removed]",
      "text/plain": [
       "plot without title"
      ]
     },
     "metadata": {},
     "output_type": "display_data"
    }
   ],
   "source": [
    "# plot errors for train and test data sets against 1/K\n",
    "\n",
    "error.m <- melt(error, id='K') # reshape for visualization\n",
    "names(error.m) <- c('K', 'type', 'error')\n",
    "ggplot(data=error.m, aes(x=1/K, y=error, color=type)) + geom_line() + geom_point() +\n",
    "       scale_color_discrete(guide = guide_legend(title = NULL)) + theme_minimal() +\n",
    "       ggtitle(\"Training and Test Errors Vs 1/K\")"
   ]
  },
  {
   "cell_type": "code",
   "execution_count": 8,
   "metadata": {},
   "outputs": [
    {
     "data": {
      "image/png": "[encoded data removed]",
      "text/plain": [
       "plot without title"
      ]
     },
     "metadata": {},
     "output_type": "display_data"
    }
   ],
   "source": [
    "ggplot(data=error.m, aes(x=K, y=error, color=type)) + geom_line() + geom_point() +\n",
    "       scale_color_discrete(guide = guide_legend(title = NULL)) + theme_minimal() +\n",
    "       ggtitle(\"Training and Test Errors Vs K\")"
   ]
  },
  {
   "cell_type": "markdown",
   "metadata": {},
   "source": [
    "### Conclusion"
   ]
  },
  {
   "cell_type": "markdown",
   "metadata": {},
   "source": [
    "The optimum value of K is the value for which the testing error is minimum. We performed KNN regressor function and to see how well our model learned from given training data we used Mean square error to interpret for what value of K our error is minimum .From the plot above or by using the min() function to find out the minimum testing error we found K=11 is optimum value.\n",
    "\n",
    "Underfitting and Overfitting:\n",
    "Overfitting occurs for the low values of 1/K or when the value of K increases. When K increases, training error also decrease and model tends to capture the noise. From the plot above, K = 1,2 overfits the data. Underfitting happens for low values of 1/K or when the training error increases as valus of K increases. From the plot above, K > 10 underfits the data."
   ]
  }
 ],
 "metadata": {
  "kernelspec": {
   "display_name": "R",
   "language": "R",
   "name": "ir"
  },
  "language_info": {
   "codemirror_mode": "r",
   "file_extension": ".r",
   "mimetype": "text/x-r-source",
   "name": "R",
   "pygments_lexer": "r",
   "version": "3.5.1"
  }
 },
 "nbformat": 4,
 "nbformat_minor": 2
}
